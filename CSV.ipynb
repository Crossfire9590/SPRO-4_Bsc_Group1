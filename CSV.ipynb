{
 "cells": [
  {
   "cell_type": "code",
   "execution_count": null,
   "id": "534ac4fa-9bca-47fd-b880-48b74b6b2875",
   "metadata": {},
   "outputs": [],
   "source": [
    "import serial\n",
    "import csv\n",
    "from datetime import datetime\n",
    "\n",
    "ser = serial.Serial('COM4', 115200)\n",
    "\n",
    "with open('test2.csv', mode='w', newline='') as file:\n",
    "    writer = csv.writer(file)\n",
    "    writer.writerow([\"Timestamp\", \"Theta_est\", \"tf\"])\n",
    "\n",
    "    try:\n",
    "        while True:\n",
    "            if ser.in_waiting:\n",
    "                line = ser.readline().decode('utf-8').strip()\n",
    "                parts = line.split(',')\n",
    "\n",
    "                if len(parts) == 2:\n",
    "                    theta = parts[0]\n",
    "                    servo = parts[1]\n",
    "                    timestamp = datetime.now().isoformat()\n",
    "                    writer.writerow([timestamp, theta, servo])\n",
    "                    print(f\"{timestamp}, theta: {theta}, servo: {servo}\")\n",
    "    except KeyboardInterrupt:\n",
    "        print(\"Logging stopped.\")\n",
    "        ser.close()"
   ]
  },
  {
   "cell_type": "code",
   "execution_count": null,
   "id": "2c269534-de75-4874-96ea-4aece43eabf4",
   "metadata": {},
   "outputs": [],
   "source": []
  },
  {
   "cell_type": "code",
   "execution_count": null,
   "id": "7bc95d5f-5100-4371-8305-ba18947dffe4",
   "metadata": {},
   "outputs": [],
   "source": []
  }
 ],
 "metadata": {
  "kernelspec": {
   "display_name": "Python [conda env:mllab]",
   "language": "python",
   "name": "conda-env-mllab-py"
  },
  "language_info": {
   "codemirror_mode": {
    "name": "ipython",
    "version": 3
   },
   "file_extension": ".py",
   "mimetype": "text/x-python",
   "name": "python",
   "nbconvert_exporter": "python",
   "pygments_lexer": "ipython3",
   "version": "3.10.13"
  }
 },
 "nbformat": 4,
 "nbformat_minor": 5
}
